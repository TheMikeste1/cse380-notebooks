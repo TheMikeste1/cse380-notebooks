{
  "nbformat": 4,
  "nbformat_minor": 0,
  "metadata": {
    "kernelspec": {
      "display_name": "Python 3",
      "language": "python",
      "name": "python3"
    },
    "language_info": {
      "codemirror_mode": {
        "name": "ipython",
        "version": 3
      },
      "file_extension": ".py",
      "mimetype": "text/x-python",
      "name": "python",
      "nbconvert_exporter": "python",
      "pygments_lexer": "ipython3",
      "version": "3.9.0"
    },
    "colab": {
      "name": "ponder_and_prove_combinatorics_and_probability.ipynb",
      "provenance": [],
      "collapsed_sections": [
        "xzOE8pLpm9iY",
        "wDThascw0E_n"
      ],
      "toc_visible": true,
      "include_colab_link": true
    }
  },
  "cells": [
    {
      "cell_type": "markdown",
      "metadata": {
        "id": "view-in-github",
        "colab_type": "text"
      },
      "source": [
        "<a href=\"https://colab.research.google.com/github/TheMikeste1/cse380-notebooks/blob/master/ponder_and_prove_combinatorics_and_probability.ipynb\" target=\"_parent\"><img src=\"https://colab.research.google.com/assets/colab-badge.svg\" alt=\"Open In Colab\"/></a>"
      ]
    },
    {
      "cell_type": "markdown",
      "metadata": {
        "id": "imEhGCrcdGJQ"
      },
      "source": [
        "# Ponder and Prove Combinatorics and Probability\n",
        "#### Due: Saturday, 6 February 2021, 11:59 pm."
      ]
    },
    {
      "cell_type": "markdown",
      "metadata": {
        "id": "ozbiDV-S7kb9"
      },
      "source": [
        "## Collaborators:\n",
        "Michael Hegerhorst - Author"
      ]
    },
    {
      "cell_type": "code",
      "metadata": {
        "id": "EJckMlk0nz3t"
      },
      "source": [
        "from math import factorial, gcd, isqrt, sqrt, e  # Math 🤪\n",
        "from functools import reduce  # Folding\n",
        "from typing import Any, Generator  # More explicit typing and descriptions\n",
        "from time import time  # Timing my 24 hour code\n",
        "from decimal import Decimal  # Better float precision"
      ],
      "execution_count": null,
      "outputs": []
    },
    {
      "cell_type": "markdown",
      "metadata": {
        "id": "aHoe6Qj3dGJV"
      },
      "source": [
        "## Conjecture\n",
        "\n",
        "A number-theoretic conjecture of combinatorial significance is the following:\n",
        "\n",
        "$degree2({2n \\choose n}) =$ the \"bits-on count\" (or population count, or Hamming weight) of $n$.\n",
        "\n",
        "$degree2(m)$ is defined as the number (degree, exponent) of 2's in the prime factorization of $m$.\n",
        "\n",
        "In other words, for any $m$, a positive integer, $m = 2^e \\cdot o$ where $o$ is an odd positive integer (could be 1) and $e$ is a natural number, including zero --- which would be the case when $m$ is odd. It's the $e$ that is the $degree2$ of $m$.\n",
        "\n",
        "~Another way to state this conjecture is that the number of 1's in the binary expansion of ${2n \\choose n}$ for positive integer $n$ is equal to the number of 2's in the prime factorization of $n$.~\n",
        "\n",
        "Another way to state this conjecture is that the number of 2's in the prime factorization of ${2n \\choose n}$  for positive integer $n$ is equal to the number of 1's in the binary expansion of $n$.\n",
        "\n",
        "Your task is to write Python code to test this conjecture for as many positive integers as you can. See the self-assessment for more details.\n",
        "\n",
        "Note: a `bitsoncount` function can be a one-liner in Python: `return bin(x).count('1')`\n",
        "\n"
      ]
    },
    {
      "cell_type": "markdown",
      "metadata": {
        "id": "9oX6ctYMgVN9"
      },
      "source": [
        "### Response"
      ]
    },
    {
      "cell_type": "markdown",
      "metadata": {
        "id": "xzOE8pLpm9iY"
      },
      "source": [
        "#### Math for the Curious"
      ]
    },
    {
      "cell_type": "markdown",
      "metadata": {
        "id": "zDwL4gI7nBRv"
      },
      "source": [
        "##### Solving for the Degree Variables"
      ]
    },
    {
      "cell_type": "markdown",
      "metadata": {
        "id": "5gTxSjRNgyzs"
      },
      "source": [
        "$\\forall m > 0 \\; \\exists e$ where $m = 2^e \\cdot o$ where $o \\equiv_2 1 \\land o > 0$."
      ]
    },
    {
      "cell_type": "markdown",
      "metadata": {
        "id": "45LtvrpLjGtW"
      },
      "source": [
        "$$\n",
        "m = 2^e \\cdot o =>\n",
        "\\frac{m}{o} = 2^e => e = \\log_2{\\frac{m}{o}}\n",
        "$$"
      ]
    },
    {
      "cell_type": "markdown",
      "metadata": {
        "id": "AitW9a3DkXta"
      },
      "source": [
        "$$\n",
        "o = \\frac{m}{2^e}\n",
        "$$"
      ]
    },
    {
      "cell_type": "markdown",
      "metadata": {
        "id": "5oinVM6mm8nm"
      },
      "source": [
        "##### Reducing ${2n}\\choose n$"
      ]
    },
    {
      "cell_type": "markdown",
      "metadata": {
        "id": "EGcdIw5ynNJI"
      },
      "source": [
        "$$\n",
        "\\frac{(2n)!}{(2n - n)!n!} =\n",
        "\\frac{(2n)!}{n!^2}\n",
        "$$"
      ]
    },
    {
      "cell_type": "markdown",
      "metadata": {
        "id": "wDThascw0E_n"
      },
      "source": [
        "#### Code Library"
      ]
    },
    {
      "cell_type": "code",
      "metadata": {
        "id": "viFdbgX7s0Ix"
      },
      "source": [
        "# This code was provided in class\n",
        "def nCk(n, k):\n",
        "  if k < 0 or k > n:\n",
        "    return 0\n",
        "  else:\n",
        "    result = 1\n",
        "    d = 1\n",
        "    g = 1\n",
        "    m = min(k, n - k)\n",
        "    while (d <= m):\n",
        "      g = gcd(result, d)\n",
        "      result = n * (result // g)\n",
        "      result = (result // (d // g))\n",
        "      n -= 1\n",
        "      d += 1\n",
        "    return result\n",
        "\n",
        "def nCk_wrapper_2nCn(n): return nCk(2 * n, n)"
      ],
      "execution_count": null,
      "outputs": []
    },
    {
      "cell_type": "code",
      "metadata": {
        "id": "NWrK3ivfn9hN"
      },
      "source": [
        "def n2Cn(n: int) -> int : return factorial(2 * n) // (factorial(n) ** 2)  # See Reducing 2nCn"
      ],
      "execution_count": null,
      "outputs": []
    },
    {
      "cell_type": "code",
      "metadata": {
        "id": "UUUUo2qfyK_l"
      },
      "source": [
        "n = 100000"
      ],
      "execution_count": null,
      "outputs": []
    },
    {
      "cell_type": "code",
      "metadata": {
        "id": "KHv_MzRKtD8Y"
      },
      "source": [
        "#%time nCk_wrapper_2nCn(n)\n",
        "None  # This is here so it doesn't print the result"
      ],
      "execution_count": null,
      "outputs": []
    },
    {
      "cell_type": "code",
      "metadata": {
        "id": "Iqa4Wx7iyFuW"
      },
      "source": [
        "#%time n2Cn(n)\n",
        "None  # This is here so it doesn't print the result"
      ],
      "execution_count": null,
      "outputs": []
    },
    {
      "cell_type": "markdown",
      "metadata": {
        "id": "TGEbkqWWymtt"
      },
      "source": [
        "My ```n2Cn``` function is consistently faster, so we'll use it instead of the provided code."
      ]
    },
    {
      "cell_type": "code",
      "metadata": {
        "id": "kbAMScSugXvQ"
      },
      "source": [
        "def bits_on_count(x): return bin(x).count('1')"
      ],
      "execution_count": null,
      "outputs": []
    },
    {
      "cell_type": "code",
      "metadata": {
        "id": "sSvoue2i0dhF"
      },
      "source": [
        "def factor(n: int) -> Generator[int, Any, None]:\n",
        "    while n % 2 == 0:  # Special case with 2\n",
        "        yield 2\n",
        "        n = n // 2\n",
        "    if n == 1:\n",
        "        return\n",
        "\n",
        "    p = 3\n",
        "    largest_p = isqrt(n)\n",
        "\n",
        "    while p <= largest_p:\n",
        "        while n % p == 0:\n",
        "            n = n // p\n",
        "            yield p\n",
        "        if n == 1:  # If n == 1, we're done\n",
        "            return\n",
        "        p += 2  # This would be better replaced with a prime number generator\n",
        "    yield n  # Yield any leftovers"
      ],
      "execution_count": null,
      "outputs": []
    },
    {
      "cell_type": "markdown",
      "metadata": {
        "id": "5eewPS82n2jg"
      },
      "source": [
        "#### Conjecture Test"
      ]
    },
    {
      "cell_type": "markdown",
      "metadata": {
        "id": "zR-tteeF0SZ5"
      },
      "source": [
        "##### Basic tests"
      ]
    },
    {
      "cell_type": "code",
      "metadata": {
        "colab": {
          "base_uri": "https://localhost:8080/"
        },
        "id": "FXfV9GHlilpn",
        "outputId": "5d7cb6f1-0101-401b-c0a3-a8928af21f7f"
      },
      "source": [
        "n = 2\n",
        "print(list(factor(n2Cn(n))).count(2), '|', bits_on_count(n))"
      ],
      "execution_count": null,
      "outputs": [
        {
          "output_type": "stream",
          "text": [
            "1 | 1\n"
          ],
          "name": "stdout"
        }
      ]
    },
    {
      "cell_type": "code",
      "metadata": {
        "colab": {
          "base_uri": "https://localhost:8080/"
        },
        "id": "H2mpio8b2gmb",
        "outputId": "b0ab78d8-3c36-4652-e570-6dab3f4bca29"
      },
      "source": [
        "n = 3\n",
        "print(list(factor(n2Cn(n))).count(2), '|', bits_on_count(n))"
      ],
      "execution_count": null,
      "outputs": [
        {
          "output_type": "stream",
          "text": [
            "2 | 2\n"
          ],
          "name": "stdout"
        }
      ]
    },
    {
      "cell_type": "code",
      "metadata": {
        "colab": {
          "base_uri": "https://localhost:8080/"
        },
        "id": "wc0bFL1P2iTD",
        "outputId": "fd944ed6-b868-4031-99b5-e8ab59e56440"
      },
      "source": [
        "n = 4\n",
        "print(list(factor(n2Cn(n))).count(2), '|', bits_on_count(n))"
      ],
      "execution_count": null,
      "outputs": [
        {
          "output_type": "stream",
          "text": [
            "1 | 1\n"
          ],
          "name": "stdout"
        }
      ]
    },
    {
      "cell_type": "code",
      "metadata": {
        "colab": {
          "base_uri": "https://localhost:8080/"
        },
        "id": "sQz4oqUm2kcN",
        "outputId": "1d34b524-9476-4ac8-8b2b-2c44a4a97ff8"
      },
      "source": [
        "failed = False\n",
        "for n in range(0, 100):\n",
        "  fac = list(factor(n2Cn(n))).count(2)\n",
        "  bit = bits_on_count(n)\n",
        "  if fac != bit:\n",
        "    print(f\"Failed on n = {n}\")\n",
        "    failed = True\n",
        "    break\n",
        "if not failed: print(\"Success!\")"
      ],
      "execution_count": null,
      "outputs": [
        {
          "output_type": "stream",
          "text": [
            "Success!\n"
          ],
          "name": "stdout"
        }
      ]
    },
    {
      "cell_type": "code",
      "metadata": {
        "colab": {
          "base_uri": "https://localhost:8080/"
        },
        "id": "t481gqZF4a6S",
        "outputId": "c19b282b-a177-4c9c-c73c-883be1cfd0e4"
      },
      "source": [
        "# n = 10000\n",
        "# %time list(factor(n2Cn(n))).count(2) == bits_on_count(n)\n",
        "# n *= 2\n",
        "# %time list(factor(n2Cn(n))).count(2) == bits_on_count(n)\n",
        "# n *= 2\n",
        "# %time list(factor(n2Cn(n))).count(2) == bits_on_count(n)\n",
        "# n *= 2\n",
        "# %time list(factor(n2Cn(n))).count(2) == bits_on_count(n)\n",
        "# n *= 2\n",
        "# %time list(factor(n2Cn(n))).count(2) == bits_on_count(n)\n",
        "None"
      ],
      "execution_count": null,
      "outputs": [
        {
          "output_type": "stream",
          "text": [
            "Wall time: 70.5 ms\n",
            "Wall time: 252 ms\n",
            "Wall time: 948 ms\n",
            "Wall time: 3.67 s\n",
            "Wall time: 14.3 s\n"
          ],
          "name": "stdout"
        }
      ]
    },
    {
      "cell_type": "markdown",
      "metadata": {
        "id": "dNZD1XVN7CJG"
      },
      "source": [
        "This trend approximately follows $y = \\frac{x^2}{1.75 \\times 10^9}$, where $x = n$. This formula overestimates slightly."
      ]
    },
    {
      "cell_type": "code",
      "metadata": {
        "colab": {
          "base_uri": "https://localhost:8080/"
        },
        "id": "3m69aznS8GT_",
        "outputId": "8013f1ed-4d80-4ba4-ff30-e95b06437173"
      },
      "source": [
        "sqrt(86400 * 1.75 * 10 ** 9)"
      ],
      "execution_count": null,
      "outputs": [
        {
          "output_type": "execute_result",
          "data": {
            "text/plain": [
              "12296340.919151518"
            ]
          },
          "metadata": {
            "tags": []
          },
          "execution_count": 14
        }
      ]
    },
    {
      "cell_type": "markdown",
      "metadata": {
        "id": "eROvarUx7-6T"
      },
      "source": [
        "In 24 hours (86400 seconds), I should be able to verify $x = 12296341$ if I so desired."
      ]
    },
    {
      "cell_type": "markdown",
      "metadata": {
        "id": "z5qxndKQ3m6W"
      },
      "source": [
        "##### 24-hour Test"
      ]
    },
    {
      "cell_type": "code",
      "metadata": {
        "id": "ZGAHo6Xg3p4h"
      },
      "source": [
        "# n = 0\n",
        "# start_time = time()\n",
        "# while time() - start_time < 86400:  # 86400 is 24 hours in seconds\n",
        "#   fac = list(factor(n2Cn(n))).count(2)\n",
        "#   bit = bits_on_count(n)\n",
        "#   if fac != bit:\n",
        "#     print(f\"Failed on n = {n}\")\n",
        "#   n += 1\n",
        "# print(f\"Verified {n} numbers in 24 hours\")"
      ],
      "execution_count": null,
      "outputs": []
    },
    {
      "cell_type": "markdown",
      "metadata": {
        "id": "W4Hokj6JPlP5",
        "trusted": true,
        "editable": false,
        "deletable": false
      },
      "source": [
        "I was able to verify 76220 numbers (from 0 to 76220) in 24 hours."
      ]
    },
    {
      "cell_type": "markdown",
      "metadata": {
        "id": "bOIJyog5dGJV"
      },
      "source": [
        "## Basic Probability Theory Question\n",
        "A dark room contains two barrels. The first barrel is filled with green marbles, the second is filled with a half-and-half mixture of green and blue marbles. So there's a 100% chance of choosing a green marble from the first barrel, and a 50% chance of choosing either color in the second barrel. You reach into one of the barrels (it's dark so you don't know which one) and select a marble at random. It's green. You select another. It's green too. You select a third, a fourth, a fifth, etc. Green each time. What is the *minimum* number of marbles you need to select to *exceed* a probability of 99% that you are picking them out of the all-green barrel? (Note that there are enough marbles so that the answer does not depend on how many marbles are in the second barrel.)\n"
      ]
    },
    {
      "cell_type": "markdown",
      "metadata": {
        "id": "utxmhMrQDAhL"
      },
      "source": [
        "### Response"
      ]
    },
    {
      "cell_type": "markdown",
      "metadata": {
        "id": "NmHD-3OTDDey"
      },
      "source": [
        "The probability that we pick a green marble out of the 50-50 barrel is $\\frac12 = 50\\%$. When choosing two specifics colors in a row, we multiply the fractions, so two greens in a row is $\\frac12 \\cdot \\frac12 = \\frac14 = 25\\%$. This results in the formula $y = \\frac{1}{2^x}$.\n",
        "\n",
        "Whereas each barrel is equally likely to be chosen, each barrel has a 50% chance of being the one we're reaching into, just like one barrel is 50-50 green-blue marbles. If we equate the probability of removing subsequent green marbles to the probability of the barrel being the 50-50 barrel, then in order to be 99% sure we're reaching into the pure barrel we simply need to solve $100\\% - 99\\% = 1\\% = \\frac{1}{2^x}$\n",
        "\n",
        "$$\n",
        "\\frac{1}{100} = \\frac{1}{2^x} => 2^x = 100 => x = \\log_2{100} \\approx 6.64 \\approx 7\n",
        "$$"
      ]
    },
    {
      "cell_type": "code",
      "metadata": {
        "colab": {
          "base_uri": "https://localhost:8080/"
        },
        "id": "mLset3rGFdyF",
        "outputId": "ff1ac39e-12b3-4a53-d19d-1afb7be25089"
      },
      "source": [
        "2 ** 7"
      ],
      "execution_count": null,
      "outputs": [
        {
          "output_type": "execute_result",
          "data": {
            "text/plain": [
              "128"
            ]
          },
          "metadata": {
            "tags": []
          },
          "execution_count": 16
        }
      ]
    },
    {
      "cell_type": "code",
      "metadata": {
        "colab": {
          "base_uri": "https://localhost:8080/"
        },
        "id": "QgBadkxQF4rw",
        "outputId": "4adb66b0-e562-45bb-b6fd-642a351c4694"
      },
      "source": [
        "2 ** 6"
      ],
      "execution_count": null,
      "outputs": [
        {
          "output_type": "execute_result",
          "data": {
            "text/plain": [
              "64"
            ]
          },
          "metadata": {
            "tags": []
          },
          "execution_count": 17
        }
      ]
    },
    {
      "cell_type": "markdown",
      "metadata": {
        "id": "lGU71TGNdGJW"
      },
      "source": [
        "## A Related But Deeper Basic Probability Theory Question\n",
        "Take a deep breath. Suppose Shakespeare's account is accurate and Julius Caesar gasped \"You too, Brutus\" before breathing his last. What is the probability that you just inhaled a molecule that Julius Caesar exhaled in his dying breath?\n",
        "\n",
        "Assume that after more than two thousand years the exhaled molecules are uniformly spread about the world and the vast majority are still free in the atmosphere. Assume further that there are $10^{44}$ molecules of air in the world, and that your inhaled quantity and Caesar's exhaled quantity were each about $2.2 \\times 10^{22}$ molecules.\n",
        "### Hint\n",
        "If a number $x$ is small, then $(1 - x)$ is approximately equal to $e^{-x}$.\n"
      ]
    },
    {
      "cell_type": "markdown",
      "metadata": {
        "id": "YWOeEqpLsyBF"
      },
      "source": [
        "### Response"
      ]
    },
    {
      "cell_type": "markdown",
      "metadata": {
        "id": "IPRybPV1s0vc"
      },
      "source": [
        "If Caesar's exhale was $2.2 \\times 10^{22}$ molecules and there are $10^{44}$ molecules of air in the world, then each molecule has about an $x = 2.2 \\times 10^{-22}\\%$ chance of being one of those molecules (if they are evenly distributed). This means the chance of a molecule *not* being one of Caesar's is $(1 - x) \\approx e^{-x}\\%$."
      ]
    },
    {
      "cell_type": "code",
      "metadata": {
        "colab": {
          "base_uri": "https://localhost:8080/"
        },
        "id": "EFOFQ6HItNQv",
        "outputId": "22f9d58a-5965-45fb-cf36-4c6284188d13"
      },
      "source": [
        "x = Decimal(2.2 * 10 ** 22) / (10 ** 44)\r\n",
        "print(f\"Chance of being Caesar's = {x:.23f} or {round(x, 23)}\")"
      ],
      "execution_count": null,
      "outputs": [
        {
          "output_type": "stream",
          "text": [
            "Chance of being Caesar's = 0.00000000000000000000022 or 2.2E-22\n"
          ],
          "name": "stdout"
        }
      ]
    },
    {
      "cell_type": "code",
      "metadata": {
        "colab": {
          "base_uri": "https://localhost:8080/"
        },
        "id": "shI_HuKgv-li",
        "outputId": "48b9fc2f-c7a0-45e9-a4ad-870982d93d10"
      },
      "source": [
        "not_x = Decimal(e) ** (-x)\r\n",
        "print(f\"Chance of _not_ being Caesar's \\u2248 {not_x:.23f}\")"
      ],
      "execution_count": null,
      "outputs": [
        {
          "output_type": "stream",
          "text": [
            "Chance of _not_ being Caesar's ≈ 0.99999999999999999999978\n"
          ],
          "name": "stdout"
        }
      ]
    },
    {
      "cell_type": "markdown",
      "metadata": {
        "id": "ZEKzzZDu4eaP"
      },
      "source": [
        "From here, we simply exponentiate `not_x` by the number of choices we get ($2.2 \\times 10^{22}$), and subtract that from 1 to get the chance that at least one *is* Caesar's:\r\n",
        "\r\n",
        "$$\r\n",
        "(e^{-2.2 \\times 10^{-22}})^{2.2 \\times 10^{22}} = e^{-4.84} \\approx 0.0079\r\n",
        "$$"
      ]
    },
    {
      "cell_type": "code",
      "metadata": {
        "colab": {
          "base_uri": "https://localhost:8080/"
        },
        "id": "RyYi6CrFxFFg",
        "outputId": "09f9b999-56e8-4337-a2c3-05f9c64c0de4"
      },
      "source": [
        "all_not_x = not_x ** Decimal(2.2 * 10 ** 22)\r\n",
        "print(f\"All not Caesar's: {all_not_x * 100:.2f}%\")"
      ],
      "execution_count": null,
      "outputs": [
        {
          "output_type": "stream",
          "text": [
            "All not Caesar's: 0.79%\n"
          ],
          "name": "stdout"
        }
      ]
    },
    {
      "cell_type": "code",
      "metadata": {
        "colab": {
          "base_uri": "https://localhost:8080/"
        },
        "id": "0ExTbyrb3OBw",
        "outputId": "0d667fb8-04ad-4064-ef3d-facf76c405fe"
      },
      "source": [
        "print(f\"At least one Caesar's: {(1 - all_not_x) * 100:.2f}%\")"
      ],
      "execution_count": null,
      "outputs": [
        {
          "output_type": "stream",
          "text": [
            "At least one Caesar's: 99.21%\n"
          ],
          "name": "stdout"
        }
      ]
    },
    {
      "cell_type": "markdown",
      "metadata": {
        "id": "a5GEcy5J7AWU"
      },
      "source": [
        "This means there is an amazing 99.21% chance that at least one molecule in the breath contains one of Caesar's last breath molecules."
      ]
    },
    {
      "cell_type": "markdown",
      "metadata": {
        "id": "5F2bwk0hdGJW"
      },
      "source": [
        "## What is True?\n",
        "Assess yourself on how you did using the checkboxes below. Check a box by putting an 'X' in it only if it is warranted.\n"
      ]
    },
    {
      "cell_type": "markdown",
      "metadata": {
        "id": "Up0JdgW5dGJW"
      },
      "source": [
        "### What is true of my experience in general?\n",
        "(5 points each, 15 points total)\n",
        "- [X] I had fun.\n",
        "- [X] I learned something new.\n",
        "- [X] I achieved something meaningful, or something I can build upon at a later time."
      ]
    },
    {
      "cell_type": "markdown",
      "metadata": {
        "id": "BmKurkoRdGJX"
      },
      "source": [
        "### What is true of my report on what I learned?\n",
        "(5 points each, 25 points total)\n",
        "- [X] I wrote a sufficient number of well-written sentences.\n",
        "- [X] My report is free of \"mechanical infelicities\" (misspelled words, grammatical errors, punctuation errors, etc.).\n",
        "- [X] I reported on any connections I found between this investigation and something I already know.\n",
        "- [X] I reported who were and what contribution each of my collaborators made.\n",
        "- [X] I reported on how many numbers I was able to verify with a time/computation budget of 24 hours (in a row).\n"
      ]
    },
    {
      "cell_type": "markdown",
      "metadata": {
        "id": "vYNtGPoddGJX"
      },
      "source": [
        "### What is true about my answers?\n",
        "(15 points each, 60 points total)\n",
        "- [X] I figured out how to run a Python program continuously for at least 24 hours.\n",
        "- [X] I refrained from printing out anything except the highest number I verified, knowing that printing just slows a program down.\n",
        "- [X] I got the right answer for the first probability theory question.\n",
        "- [X] I got the right answer for the second probability theory question.\n"
      ]
    },
    {
      "cell_type": "markdown",
      "metadata": {
        "id": "rMVwCK8Bn_Wz"
      },
      "source": [
        "## TA Comments"
      ]
    },
    {
      "cell_type": "markdown",
      "metadata": {
        "id": "QuOpHJwQoA73"
      },
      "source": [
        "Excellent job!!! I thoroughly enjoyed reading through and grading your assignment."
      ]
    }
  ]
}