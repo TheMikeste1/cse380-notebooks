{
  "nbformat": 4,
  "nbformat_minor": 0,
  "metadata": {
    "colab": {
      "name": "ponder_and_prove_conditional_probability_and_Bayes_theorem.ipynb",
      "provenance": [],
      "collapsed_sections": [
        "uas6fBg_cTMW",
        "ndqbmxkZOjAq",
        "uwXpPms8Mgb3",
        "fcvmte7xawPl",
        "JzJxbCRCZ01-",
        "EO4g44kGbGh6",
        "tSUqeusUb2nE",
        "DQ1_fD4Z-t_R",
        "RIr6Amm2yrD8",
        "r0tmzRnoNwrp",
        "AkgOpmMKWCwA",
        "_chH1aXdWopw",
        "muxeYgQQKGEU"
      ],
      "toc_visible": true,
      "include_colab_link": true
    },
    "kernelspec": {
      "display_name": "Python 3",
      "language": "python",
      "name": "python3"
    },
    "language_info": {
      "codemirror_mode": {
        "name": "ipython",
        "version": 3
      },
      "file_extension": ".py",
      "mimetype": "text/x-python",
      "name": "python",
      "nbconvert_exporter": "python",
      "pygments_lexer": "ipython3",
      "version": "3.9.0"
    }
  },
  "cells": [
    {
      "cell_type": "markdown",
      "metadata": {
        "id": "view-in-github",
        "colab_type": "text"
      },
      "source": [
        "<a href=\"https://colab.research.google.com/github/TheMikeste1/cse380-notebooks/blob/master/ponder_and_prove_conditional_probability_and_Bayes_theorem.ipynb\" target=\"_parent\"><img src=\"https://colab.research.google.com/assets/colab-badge.svg\" alt=\"Open In Colab\"/></a>"
      ]
    },
    {
      "cell_type": "markdown",
      "metadata": {
        "id": "uas6fBg_cTMW"
      },
      "source": [
        "# **Ponder and Prove Conditional Probability and Bayes' Theorem**\n",
        "Due: Saturday, 13 February 2021, 11:59pm"
      ]
    },
    {
      "cell_type": "markdown",
      "metadata": {
        "id": "ndqbmxkZOjAq"
      },
      "source": [
        "# ~DONE~ Watch a Video on Bayes' Theorem"
      ]
    },
    {
      "cell_type": "markdown",
      "metadata": {
        "id": "gF3YCXyTP4aJ"
      },
      "source": [
        "[and making probability intuitive](https://www.youtube.com/watch?v=HZGCoVF3YvM), 15.75 minutes long."
      ]
    },
    {
      "cell_type": "markdown",
      "metadata": {
        "id": "uwXpPms8Mgb3"
      },
      "source": [
        "# ~DONE~ Apply Bayes’ Theorem"
      ]
    },
    {
      "cell_type": "markdown",
      "metadata": {
        "id": "lB2cIND7Mcu7"
      },
      "source": [
        "\n",
        "Automating the process of finding bugs in source code requires the use of heuristics, or pattern-matching on the code. There is no deep understanding of the code involved, hence such a tool cannot be perfect at detecting bugs. A certain bug-detection tool is correct 80% of the time and incorrect the rest of the time. This means that on average out of every 100 bugs, the tool will detect 80 of them, and fail to detect 20 of them. Also, out of 100 non-bugs, the tool will report 20 bugs and 80 non-bugs, on average. The tool is run on source code that is 10% buggy. That is, one line out of every ten contains a bug. Given that the tool detects a bug in some line of code, what is the probability that this line of code actually contains a bug?"
      ]
    },
    {
      "cell_type": "markdown",
      "metadata": {
        "id": "fcvmte7xawPl"
      },
      "source": [
        "# ~DONE~ Compute Four Leaves"
      ]
    },
    {
      "cell_type": "markdown",
      "metadata": {
        "id": "motP9549ZMxc"
      },
      "source": [
        "\n",
        "Using the information in the previous task, calculate to two-decimal-digit precision, the values that go at the leaves of the binary tree shown below:\n",
        "\n",
        "![fig-binary-tree-with-four-leaves.png](data:image/png;base64,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)"
      ]
    },
    {
      "cell_type": "markdown",
      "metadata": {
        "id": "JzJxbCRCZ01-"
      },
      "source": [
        "The value that goes at leaf number 1 is calculated by $P(H) \\cdot P(T|H)$. The other three values are calculated similarly.\n",
        "\n",
        "Hint: The four leaves correspond to the four quadrants of trutH versus tesT described in this brief introduction to [Bayes' Theorem](https://byui-cse.github.io/cse380-course/Bayes-Theorem.pdf). (Compare this to the video you watched.)\n",
        "\n",
        "### Put your answers here:\n",
        "1. $P(H) \\cdot P(T|H)$ = (0.1)(0.8) = 0.08 \n",
        "2. $P(H) \\cdot P(\\lnot T|H)$ = (0.1)(0.2) = 0.02\n",
        "3. $P(\\lnot H) \\cdot P(T|\\lnot H)$ = (0.9)(0.2) = 0.18\n",
        "4. $P(\\lnot H) \\cdot P(\\lnot T|\\lnot H)$ = (0.9)(0.8) = 0.72\n"
      ]
    },
    {
      "cell_type": "markdown",
      "metadata": {
        "id": "EO4g44kGbGh6"
      },
      "source": [
        "# ~DONE~ Apply Your Probability Knowledge\n",
        "\n"
      ]
    },
    {
      "cell_type": "markdown",
      "metadata": {
        "id": "FaNSq3v0bQDI"
      },
      "source": [
        "There are three sheets of paper in a folder. One sheet has writing on both sides, one has writing on one side and is blank on the other side, and the third sheet of paper is blank on both sides. Without looking you randomly pull one sheet of paper out of the folder and see that it is blank on the side you're looking at. What is the probability that the other side is blank as well?"
      ]
    },
    {
      "cell_type": "markdown",
      "metadata": {
        "id": "3VZLl2b8byS7"
      },
      "source": [
        "# ~DONE~ Apply Bayes Theorem Generalized"
      ]
    },
    {
      "cell_type": "markdown",
      "metadata": {
        "id": "uwkiPKzibWto"
      },
      "source": [
        "Three different vegetables, turnips, eggplant and asparagus, make Bill sick sometimes. There is a 50% chance he will be sick if he eats turnips. If he eats eggplant, there is a 20% chance he will be sick. The probability that he will be sick when he eats asparagus is only 5%.\n",
        "\n",
        "Bill gets sick after dinner where he ate one of those three vegetables. What is the probability that he ate turnips?\n",
        "\n",
        "(Assume that for each of the three vegetables, there is a 1/3 chance he ate it.)"
      ]
    },
    {
      "cell_type": "markdown",
      "metadata": {
        "id": "tSUqeusUb2nE"
      },
      "source": [
        "# ~DONE~ Apply Bayes Theorem Generalized With Different **Priors**"
      ]
    },
    {
      "cell_type": "markdown",
      "metadata": {
        "id": "eW3cfJu-cFlZ"
      },
      "source": [
        "Change the prior probabilities of Bill eating these vegetables to a 30% chance he ate turnips, a 10% chance he ate eggplant, and a 60% chance he ate asparagus.\n",
        "\n",
        "Now what is the probability that Bill ate turnips, given that he got sick?\n"
      ]
    },
    {
      "cell_type": "markdown",
      "metadata": {
        "id": "81dbKwHenxnT"
      },
      "source": [
        "# ~DONE~ My Report on What I Did and What I Learned"
      ]
    },
    {
      "cell_type": "markdown",
      "metadata": {
        "id": "C8BeiIern33B"
      },
      "source": [
        "## Fun"
      ]
    },
    {
      "cell_type": "markdown",
      "metadata": {
        "id": "Tm1Bo5JPMCf2"
      },
      "source": [
        "I enjoyed looking into these problems and comparing them against my instinct. Sometimes my gut feeling was close, other times I was quite off. I also enjoyed writing a small simulation to verify I did the buggy code question correctly."
      ]
    },
    {
      "cell_type": "markdown",
      "metadata": {
        "id": "OzOkZ3son-u9"
      },
      "source": [
        "## New"
      ]
    },
    {
      "cell_type": "markdown",
      "metadata": {
        "id": "XIjnop3MMSsU"
      },
      "source": [
        "I feel I have learned more about how Bayes' Theorem works and how to apply it. Of particular use was the final problem, where each event had a different chance of occurring."
      ]
    },
    {
      "cell_type": "markdown",
      "metadata": {
        "id": "mJHvoj6GokaZ"
      },
      "source": [
        "## Meaningful"
      ]
    },
    {
      "cell_type": "markdown",
      "metadata": {
        "id": "FiCPo_kpMwQZ"
      },
      "source": [
        "I was already familiar with Bayes' Theorem due to having taken a machine learning course, but it was nice to revisit and reinforce my knowledge on the topic."
      ]
    },
    {
      "cell_type": "markdown",
      "metadata": {
        "id": "CvFLB7eWozwF"
      },
      "source": [
        "## Response"
      ]
    },
    {
      "cell_type": "markdown",
      "metadata": {
        "id": "yF58U36nyma7"
      },
      "source": [
        "Bayes' Theorem:\r\n",
        "$$\r\n",
        "P(H|T) = \\frac{P(H)P(T|H)}{P(T)} = \r\n",
        "\\frac{P(H)P(T|H)}{P(H)P(T|H) + P(\\lnot H)P(T|\\lnot H)}\r\n",
        "$$"
      ]
    },
    {
      "cell_type": "markdown",
      "metadata": {
        "id": "DQ1_fD4Z-t_R"
      },
      "source": [
        "### Libraries"
      ]
    },
    {
      "cell_type": "code",
      "metadata": {
        "id": "_QWNp3sl-s-r"
      },
      "source": [
        "from random import random"
      ],
      "execution_count": null,
      "outputs": []
    },
    {
      "cell_type": "markdown",
      "metadata": {
        "id": "RIr6Amm2yrD8"
      },
      "source": [
        "### 3Blue1Brown"
      ]
    },
    {
      "cell_type": "markdown",
      "metadata": {
        "id": "3xLeGKWVyz1s"
      },
      "source": [
        "3Blue1Brown is one of my favorite channels. The producer's teaching style works very well for me. I thought his perspective on using area instead of ratios to visualize Bayes' Theorem was particularly useful.\r\n",
        "\r\n",
        "I asked some of the questions he explained in the video to my wife and unsurprisingly found the results to be the same as those in the video. It is interesting how people don't want to be just \"correct,\" but rather \"most correct.\""
      ]
    },
    {
      "cell_type": "markdown",
      "metadata": {
        "id": "eS7fVC1jxmPV"
      },
      "source": [
        "### Apply Bayes’ Theorem"
      ]
    },
    {
      "cell_type": "markdown",
      "metadata": {
        "id": "CvgJTtgSBJsR"
      },
      "source": [
        "Here, $H$ is the line being buggy, and $P(T)$ is if the program flags the line."
      ]
    },
    {
      "cell_type": "markdown",
      "metadata": {
        "id": "w4F_vOkj2HG8"
      },
      "source": [
        "The probability a line is buggy is 10%, so $P(H) = 0.1$.\\\r\n",
        "The probability a line is not buggy is 90%, so $P(\\lnot H) = 0.9$.\\\r\n",
        "The probability a line is flagged given it is buggy is 80%, so $P(T|H) = 0.8$.\\\r\n",
        "The probability a line is flagged given it is not buggy is 20%, so $P(T|\\lnot H) = 0.2$."
      ]
    },
    {
      "cell_type": "markdown",
      "metadata": {
        "id": "EgWEFLa62MTy"
      },
      "source": [
        "**Therefore:**\\\r\n",
        "The probability a line is buggy and is flagged is $P(H \\cap T) = P(H) \\cdot P(T|H) = 0.1 \\cdot 0.8 = 0.08$.\\\r\n",
        "The probability a line is not buggy and is flagged is $P(\\lnot H \\cap T) = P(\\lnot H) \\cdot P(T|\\lnot H) = 0.9 \\cdot 0.2 = 0.18$\r\n",
        "\r\n",
        "The total probability of a line being flagged is $P(T) = P(H)P(T|H) + P(\\lnot H)P(T|\\lnot H) = 0.08 + 0.18 = 0.26$"
      ]
    },
    {
      "cell_type": "markdown",
      "metadata": {
        "id": "lezySKPs6S8y"
      },
      "source": [
        "Now that we have all the parts, we can apply them to determine the probability of a line legitimately being flagged:\r\n",
        "$$\r\n",
        "P(H|T) = \\frac{P(H)P(T|H)}{P(T)} = \\frac{0.08}{0.26} = \\frac{4}{13} \\approx 0.31\r\n",
        "$$\r\n",
        "\r\n",
        "This is surprisingly low. However, whereas bugs can be notoriously difficult to detect, this could still be a great help."
      ]
    },
    {
      "cell_type": "markdown",
      "metadata": {
        "id": "PzDrnoB17zGv"
      },
      "source": [
        "#### Verification Simulation"
      ]
    },
    {
      "cell_type": "code",
      "metadata": {
        "id": "WUhHIfjM7ytG"
      },
      "source": [
        "def gen_lines(num_lines:int, portion_buggy:float):\r\n",
        "  \"\"\"\r\n",
        "  True means buggy, False means clean.\r\n",
        "\r\n",
        "  :param num_lines: The number of lines to generate.\r\n",
        "  :param portion_buggy: The proportion to be buggy.\r\n",
        "    Should be less than or equal to 1.\r\n",
        "  :return: A list of booleans representing whether or\r\n",
        "    not a line is buggy. \r\n",
        "    True means buggy, False means clean.\r\n",
        "  \"\"\"\r\n",
        "  num_buggy = int(num_lines * portion_buggy)\r\n",
        "  lines = [True] * num_buggy\r\n",
        "  return lines + [False] * (num_lines - num_buggy)"
      ],
      "execution_count": null,
      "outputs": []
    },
    {
      "cell_type": "code",
      "metadata": {
        "id": "RxarZPX79r1M"
      },
      "source": [
        "def simulate_flagging(lines:[bool], p_tp:float, p_tn:float):\r\n",
        "  \"\"\"\r\n",
        "  :param lines: List of bools where true is a buggy line\r\n",
        "    and false is a clean line.\r\n",
        "  :param p_tp: Proportion True Positive; how often a buggy\r\n",
        "    line is correctly flagged.\r\n",
        "  :param p_tn: Proportion True Negative; how often a clean\r\n",
        "    line is correctly ignored.\r\n",
        "  :return: A list of flags stating whether or not a line\r\n",
        "    was flagged.\r\n",
        "    True means flagged, false means not flagged.\r\n",
        "  \"\"\"\r\n",
        "  flagged = []\r\n",
        "  for l in lines:\r\n",
        "    if l:  # The line has a bug\r\n",
        "      flagged.append(random() <= p_tp)\r\n",
        "    else:  # The line is clean\r\n",
        "      flagged.append(random() > p_tn)\r\n",
        "  return flagged"
      ],
      "execution_count": null,
      "outputs": []
    },
    {
      "cell_type": "code",
      "metadata": {
        "id": "Npj_ATPbDGde"
      },
      "source": [
        "def run_instance(num_lines, p_buggy, p_tp, p_tn):\r\n",
        "  lines = gen_lines(num_lines, p_buggy)\r\n",
        "  flags = simulate_flagging(lines, p_tp, p_tn)\r\n",
        "\r\n",
        "  num_true_positive = 0\r\n",
        "  num_true_negative = 0\r\n",
        "  num_false_positive = 0\r\n",
        "  num_false_negative = 0\r\n",
        "  for buggy, flagged in zip(lines, flags):\r\n",
        "    if buggy: \r\n",
        "      if flagged:\r\n",
        "        num_true_positive += 1\r\n",
        "      else:\r\n",
        "        num_false_negative += 1\r\n",
        "    else:\r\n",
        "      if flagged:\r\n",
        "        num_false_positive += 1\r\n",
        "      else:\r\n",
        "        num_true_negative += 1\r\n",
        "  return (num_true_positive, num_true_negative, \r\n",
        "          num_false_positive, num_false_negative)"
      ],
      "execution_count": null,
      "outputs": []
    },
    {
      "cell_type": "code",
      "metadata": {
        "colab": {
          "base_uri": "https://localhost:8080/"
        },
        "id": "sDd2xbsXAr1V",
        "outputId": "5482e9a6-63b1-4903-f22f-09fff4f60fa1"
      },
      "source": [
        "num_lines = 100\r\n",
        "p_buggy = 0.1\r\n",
        "p_true_positive = 0.8\r\n",
        "p_true_negative = 0.8\r\n",
        "\r\n",
        "num_true_positive, \\\r\n",
        "num_true_negative, \\\r\n",
        "num_false_positive, \\\r\n",
        "num_false_negative = \\\r\n",
        "  run_instance(num_lines,\r\n",
        "               p_buggy,\r\n",
        "               p_true_positive,\r\n",
        "               p_true_negative)\r\n",
        "\r\n",
        "print(\"True+: \", num_true_positive)\r\n",
        "print(\"False+:\", num_false_positive)\r\n",
        "\r\n",
        "total_positive = num_true_positive + num_false_positive\r\n",
        "print(\"% True+:\", num_true_positive / total_positive * 100)\r\n"
      ],
      "execution_count": null,
      "outputs": [
        {
          "output_type": "stream",
          "text": [
            "True+:  8\n",
            "False+: 17\n",
            "% True+: 32.0\n"
          ],
          "name": "stdout"
        }
      ]
    },
    {
      "cell_type": "markdown",
      "metadata": {
        "id": "KEzmOS5ID69q"
      },
      "source": [
        "This seems about right. Let's run it a few times."
      ]
    },
    {
      "cell_type": "code",
      "metadata": {
        "colab": {
          "base_uri": "https://localhost:8080/"
        },
        "id": "F_eav0GVD9kq",
        "outputId": "71bb318f-f485-48d6-8cf1-6b4b976b7d74"
      },
      "source": [
        "n = 10000\r\n",
        "num_lines = 100\r\n",
        "p_buggy = 0.1\r\n",
        "p_true_positive = 0.8\r\n",
        "p_true_negative = 0.8\r\n",
        "\r\n",
        "total_percent = 0\r\n",
        "for _ in range(n):\r\n",
        "  num_true_positive, \\\r\n",
        "  num_true_negative, \\\r\n",
        "  num_false_positive, \\\r\n",
        "  num_false_negative = \\\r\n",
        "    run_instance(num_lines,\r\n",
        "                 p_buggy,\r\n",
        "                 p_true_positive,\r\n",
        "                 p_true_negative)\r\n",
        "  total_positive = num_true_positive + num_false_positive\r\n",
        "  total_percent += num_true_positive / total_positive\r\n",
        "print(\"Average % True+:\", total_percent / n * 100)"
      ],
      "execution_count": null,
      "outputs": [
        {
          "output_type": "stream",
          "text": [
            "Average % True+: 31.198198511425208\n"
          ],
          "name": "stdout"
        }
      ]
    },
    {
      "cell_type": "markdown",
      "metadata": {
        "id": "r0tmzRnoNwrp"
      },
      "source": [
        "### Apply Your Probability Knowledge"
      ]
    },
    {
      "cell_type": "markdown",
      "metadata": {
        "id": "TeRpzDV9N6qF"
      },
      "source": [
        "The probability of choosing the double-blank sheet is $P(DB) = \\frac13 \\approx 0.33$.\\\r\n",
        "The probability of pulling a side that is blank is $P(S) = \\frac36 = 0.5$.\\\r\n",
        "The probability of pulling a blank side given it is the double-blank sheet is $P(S|DB) = 1$. \\\r\n",
        "The probability of pulling a blank side given it is the not double-blank sheet is $P(S|\\lnot DB) = 0 \\cdot \\frac13 + \\frac12 \\cdot \\frac13 = \\frac16$."
      ]
    },
    {
      "cell_type": "markdown",
      "metadata": {
        "id": "BipiW2sxQWzD"
      },
      "source": [
        "$P(DB)P(S|DB) = \\frac13 \\cdot 1 = \\frac13 \\approx 0.33$ \\\r\n",
        "$P(\\lnot DB)P(S|\\lnot DB) = \\frac23 \\cdot \\frac14 = \\frac{2}{12} = \\frac16 \\approx 0.167$"
      ]
    },
    {
      "cell_type": "markdown",
      "metadata": {
        "id": "NAJxFIF9RvMc"
      },
      "source": [
        "$$\r\n",
        "P(DB|S) = \\frac{\\frac13}{\\frac13 + \\frac{1}{6} = \\frac{1}{2}} =\r\n",
        "\\frac{2}{3} \\approx 0.667\r\n",
        "$$"
      ]
    },
    {
      "cell_type": "markdown",
      "metadata": {
        "id": "D8QWbO-USDmP"
      },
      "source": [
        "There is a 0.667 probability (66.7% chance) we have chosen the double-blank sheet and so the other side will also be blank."
      ]
    },
    {
      "cell_type": "markdown",
      "metadata": {
        "id": "AkgOpmMKWCwA"
      },
      "source": [
        "### Apply Bayes Theorem Generalized"
      ]
    },
    {
      "cell_type": "markdown",
      "metadata": {
        "id": "CGgg2l_kWtMZ"
      },
      "source": [
        "$P(\\text{Turnip } [T]) = \\frac13$ \\\r\n",
        "$P(S|T) = \\frac12$ \\\r\n",
        "$P(\\text{Eggplant } [E]) = \\frac13$ \\\r\n",
        "$P(S|E) = \\frac15$ \\\r\n",
        "$P(\\text{Asparagus } [A]) = \\frac13$ \\\r\n",
        "$P(S|A) = \\frac{1}{20}$\r\n"
      ]
    },
    {
      "cell_type": "markdown",
      "metadata": {
        "id": "kwjO9KLqkQDh"
      },
      "source": [
        "$P(T)P(S|T) = \\frac16$ \\\r\n",
        "$P(E)P(S|E) = \\frac{1}{15}$ \\\r\n",
        "$P(A)P(S|A) = \\frac{1}{60}$"
      ]
    },
    {
      "cell_type": "markdown",
      "metadata": {
        "id": "Wgd49nrFtHLI"
      },
      "source": [
        "$P(S) = P(T)P(S|T) + P(E)P(S|E) + P(A)P(S|A) = \\frac16 + \\frac{1}{15} + \\frac{1}{60} = \\frac14$"
      ]
    },
    {
      "cell_type": "markdown",
      "metadata": {
        "id": "ncbkT6xJjAOy"
      },
      "source": [
        "$$\r\n",
        "P(T|S) = \\frac{P(T)P(S|T)}{P(S)} =\r\n",
        "\\frac{\\frac16}{\\frac14} =\r\n",
        "\\frac46 = \\frac23 \\approx 0.667\r\n",
        "$$"
      ]
    },
    {
      "cell_type": "markdown",
      "metadata": {
        "id": "VyWR-QIuk6yq"
      },
      "source": [
        "The probability he is sick because he ate turnips is 0.667, or 66.7%."
      ]
    },
    {
      "cell_type": "markdown",
      "metadata": {
        "id": "_chH1aXdWopw"
      },
      "source": [
        "### Apply Bayes Theorem Generalized With Different Priors"
      ]
    },
    {
      "cell_type": "markdown",
      "metadata": {
        "id": "I2qgO9fvvjqO"
      },
      "source": [
        "$P(\\text{Turnip } [T]) = \\frac{3}{10}$ \\\r\n",
        "$P(S|T) = \\frac12$ \\\r\n",
        "$P(\\text{Eggplant } [E]) = \\frac{1}{10}$ \\\r\n",
        "$P(S|E) = \\frac15$ \\\r\n",
        "$P(\\text{Asparagus } [A]) = \\frac{3}{5}$ \\\r\n",
        "$P(S|A) = \\frac{1}{20}$\r\n"
      ]
    },
    {
      "cell_type": "markdown",
      "metadata": {
        "id": "qvQ6lzkLvjqO"
      },
      "source": [
        "$P(T)P(S|T) = \\frac{3}{20}$ \\\r\n",
        "$P(E)P(S|E) = \\frac{1}{50}$ \\\r\n",
        "$P(A)P(S|A) = \\frac{3}{100}$"
      ]
    },
    {
      "cell_type": "markdown",
      "metadata": {
        "id": "FNtrqi1pvjqO"
      },
      "source": [
        "$P(S) = P(T)P(S|T) + P(E)P(S|E) + P(A)P(S|A) = \\frac{3}{20} + \\frac{1}{50} + \\frac{3}{100} = \\frac15$"
      ]
    },
    {
      "cell_type": "markdown",
      "metadata": {
        "id": "KIwDBd6ovjqO"
      },
      "source": [
        "$$\r\n",
        "P(T|S) = \\frac{P(T)P(S|T)}{P(S)} =\r\n",
        "\\frac{\\frac{3}{20}}{\\frac15} = \r\n",
        "\\frac{3 \\cdot 5 = 15}{20} = \\frac34 = 0.75\r\n",
        "$$"
      ]
    },
    {
      "cell_type": "markdown",
      "metadata": {
        "id": "sAz7jjdQvjqP"
      },
      "source": [
        "The probability he is sick because he ate turnips is 0.75, or 75%."
      ]
    },
    {
      "cell_type": "markdown",
      "metadata": {
        "id": "_RBE03fhpNUG"
      },
      "source": [
        "## Other\n",
        "**Collaborators:**\\\n",
        "Michael Hegerhorst - Author"
      ]
    },
    {
      "cell_type": "markdown",
      "metadata": {
        "id": "Nrk-8EmgW4NP"
      },
      "source": [
        "# ~DONE~ What is True?\n",
        "Click on each warranted checkbox to toggle it to True (or back to False). \n",
        "\n",
        "NOTE: *This only works in Colab. If you run it in some other Jupyter notebook client/server environment you may have to change False to True (or vice versa) manually.*\n",
        "\n",
        "This self-assessment is subject to revision by a grader."
      ]
    },
    {
      "cell_type": "code",
      "metadata": {
        "id": "qGAjzgVRXR4M",
        "cellView": "form"
      },
      "source": [
        "#@markdown ## What is true about what I did?\n",
        "#@markdown ### I had fun.\n",
        "cb00 = True #@param {type:'boolean'}\n",
        "#@markdown ### I learned something new.\n",
        "cb01 = True #@param {type:'boolean'}\n",
        "#@markdown ### I achieved something meaningful, or something I can build upon at a later time.\n",
        "cb02 = True #@param {type:'boolean'}\n",
        "#@markdown ### I watched the linked-to 3Blue1Brown video on Bayes' Theorem, and reported on the experience.\n",
        "cb03 = True #@param {type:'boolean'}\n",
        "#@markdown ## What is true about my report?\n",
        "#@markdown ### I wrote a sufficient number of well-written sentences.\n",
        "cb04 = True #@param {type:'boolean'}\n",
        "#@markdown ### My report is free of mechanical infelicities.\n",
        "cb05 = True #@param {type:'boolean'}\n",
        "#@markdown ### I used Grammarly (or something better described in my report) to check for MIs.\n",
        "cb06 = True #@param {type:'boolean'}\n",
        "#@markdown ### I reported on any connections I found between these problems and something I already know. \n",
        "cb07 = True #@param {type:'boolean'}\n",
        "#@markdown ### I reported who were and what contribution each of my collaborators made.\n",
        "cb08 = True #@param {type:'boolean'}\n",
        "#@markdown ## What is true about my answers?\n",
        "#@markdown ### I got the right answer for the \"Apply Bayes' Theorem\" problem, and my report describes how I know it.\n",
        "cb09 = True #@param {type:'boolean'}\n",
        "#@markdown ### I got the right answer for the \"Compute Four Leaves\" problem, and my report describes how I know it.\n",
        "cb10 = True #@param {type:'boolean'}\n",
        "#@markdown ### I got the right answer for the \"Apply Your Probability Knowledge\" problem, and my report describes how I know it.\n",
        "cb11 = True #@param {type:'boolean'}\n",
        "#@markdown ### I got the right answer for the \"Apply Bayes' Theorem Generalized\" problem, and my report describes how I know it.\n",
        "cb12 = True #@param {type:'boolean'}\n",
        "#@markdown ### I got the right answer for the \"Apply Bayes' Theorem Generalized With Different Priors\" problem, and my report describes how I know it.\n",
        "cb13 = True #@param {type:'boolean'}\n"
      ],
      "execution_count": null,
      "outputs": []
    },
    {
      "cell_type": "markdown",
      "metadata": {
        "id": "Af0zhicAK_GY"
      },
      "source": [
        ""
      ]
    },
    {
      "cell_type": "markdown",
      "metadata": {
        "id": "muxeYgQQKGEU"
      },
      "source": [
        "# For graders"
      ]
    },
    {
      "cell_type": "code",
      "metadata": {
        "id": "c0ldoieNKMTU"
      },
      "source": [
        "#@markdown ---\n",
        "number_of_MIs_found = 0 #@param {type: 'slider', min: 0, max: 5}\n",
        "#@markdown ---\n"
      ],
      "execution_count": null,
      "outputs": []
    },
    {
      "cell_type": "markdown",
      "metadata": {
        "id": "P4cLXzepK9aB"
      },
      "source": [
        "## TA Comments"
      ]
    },
    {
      "cell_type": "markdown",
      "metadata": {
        "id": "B_2A9qWnK_tA"
      },
      "source": [
        "VERY well done!"
      ]
    }
  ]
}