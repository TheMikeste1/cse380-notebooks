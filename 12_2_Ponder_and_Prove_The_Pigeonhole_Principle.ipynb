{
  "nbformat": 4,
  "nbformat_minor": 0,
  "metadata": {
    "colab": {
      "name": "12_2_Ponder_and_Prove_The_Pigeonhole_Principle.ipynb",
      "provenance": [],
      "collapsed_sections": [
        "aPEEcqUGzFds",
        "vRKIt3NOzkwH",
        "P_rHvbgxENS5",
        "FXot8yiJQkBL"
      ],
      "toc_visible": true,
      "include_colab_link": true
    },
    "kernelspec": {
      "display_name": "Python 3",
      "name": "python3"
    },
    "language_info": {
      "name": "python"
    }
  },
  "cells": [
    {
      "cell_type": "markdown",
      "metadata": {
        "id": "view-in-github",
        "colab_type": "text"
      },
      "source": [
        "<a href=\"https://colab.research.google.com/github/TheMikeste1/cse380-notebooks/blob/master/12_2_Ponder_and_Prove_The_Pigeonhole_Principle.ipynb\" target=\"_parent\"><img src=\"https://colab.research.google.com/assets/colab-badge.svg\" alt=\"Open In Colab\"/></a>"
      ]
    },
    {
      "cell_type": "markdown",
      "metadata": {
        "id": "ivY_Ypmxx7Vm"
      },
      "source": [
        "# Ponder and Prove The Pigeonhole Principle\n",
        "## Due: Saturday, 27 March 2021"
      ]
    },
    {
      "cell_type": "markdown",
      "metadata": {
        "id": "zF2K38sxyH5Z"
      },
      "source": [
        "## Exploration"
      ]
    },
    {
      "cell_type": "markdown",
      "metadata": {
        "id": "uBgYLYK5yJzk"
      },
      "source": [
        "You are invited to explore some of the ramifications of the *Pigeonhole Principle*, a fascinating counting principle belonging to combinatorics.\n"
      ]
    },
    {
      "cell_type": "markdown",
      "metadata": {
        "id": "cIS4n3DpyXA1"
      },
      "source": [
        "### Requirements"
      ]
    },
    {
      "cell_type": "markdown",
      "metadata": {
        "id": "FqgealMfyZc8"
      },
      "source": [
        "Read Brother Kent Bessey's essay entitled *Pigeons and Pigeonholes*, think about and explore the topics therein, and write your response thereto.\n",
        "\n",
        "Include in your response a description of a discussion about this essay that you will have had with someone *not in the class* (nor in any of the STEM majors). This person can be a spouse, friend, roommate, or relative. The point is to find someone who is not mathematically strong, and has probably never heard of the Pigeonhole Principle, or combinatorics (or discrete mathematics) in general."
      ]
    },
    {
      "cell_type": "markdown",
      "metadata": {
        "id": "aPEEcqUGzFds"
      },
      "source": [
        "#### Copyright Note"
      ]
    },
    {
      "cell_type": "markdown",
      "metadata": {
        "id": "9EPgpQ0hzHr5"
      },
      "source": [
        "Brother Kent A. Bessey, Professor of Mathematics at BYU-Idaho, holds the copyright to this essay, which means:\n",
        "\n",
        "> All rights reserved (by him). Reproduced by permission (from him).\n",
        "Read-only. Please do not copy, print, transmit or save a copy of\n",
        "this work.\n",
        "\n",
        "He has authorized your temporary use of his work, which [you can find here](https://firstthreeodds.org/17657741833134731255/pigeons-and-pigeonholes.pdf)."
      ]
    },
    {
      "cell_type": "markdown",
      "metadata": {
        "id": "vRKIt3NOzkwH"
      },
      "source": [
        "### TODO Concretize the Abstract by Writing Some Code"
      ]
    },
    {
      "cell_type": "markdown",
      "metadata": {
        "id": "ngXSoVu3znIJ"
      },
      "source": [
        "Specifically, write some Python code to help you figure out the problem on page 40, which Brother Bessey prefaces by saying:\n",
        "\n",
        "> I leave it to the reader to verify the calculations for a final (albeit challenging) exercise ...!\n",
        "\n",
        "Include the results of your grappling with this problem, and note the two stubbed functions below that you must flesh out in order to verify the calculations and explain the hows and whys."
      ]
    },
    {
      "cell_type": "markdown",
      "metadata": {
        "id": "EBQNhzqGzzIF"
      },
      "source": [
        "#### Stub Code"
      ]
    },
    {
      "cell_type": "code",
      "metadata": {
        "id": "fCOUkHjqz10k"
      },
      "source": [
        "def calculate_number_of_possible_initials_including_middle_initial_if_any(n):\n",
        "  # YOUR CODE GOES HERE\n",
        "  raise NotImplementedError # replace this line\n",
        "\n",
        "def pigeonhole_from_pigeon(pigeon_represented_as_a_person_with_traits):\n",
        "  # YOUR CODE GOES HERE\n",
        "  raise NotImplementedError # replace this line"
      ],
      "execution_count": null,
      "outputs": []
    },
    {
      "cell_type": "markdown",
      "metadata": {
        "id": "JvMpIHMF0JuM"
      },
      "source": [
        "### TODO Find Applications of the Pigeonhole Principle"
      ]
    },
    {
      "cell_type": "markdown",
      "metadata": {
        "id": "9aicPoZG0Lbj"
      },
      "source": [
        "Especially in graph theory --- there are many!"
      ]
    },
    {
      "cell_type": "markdown",
      "metadata": {
        "id": "81dbKwHenxnT"
      },
      "source": [
        "## TODO My Report on What I Did and What I Learned"
      ]
    },
    {
      "cell_type": "markdown",
      "metadata": {
        "id": "P_rHvbgxENS5"
      },
      "source": [
        "### *Pigeons and Pigeonholes* Response"
      ]
    },
    {
      "cell_type": "markdown",
      "metadata": {
        "id": "3-MoTr6iETUK"
      },
      "source": [
        "Right off the bat, Bro. Bessey starts by saying \"'the pigeonhole principle' is one the the simplest mathematical ideas [. . .] yet its simplicity belies its surprising applications.\" I have noticed that quite often the simplest ideas are the ones with the most (and often, the most useful) applications.\n",
        "\n",
        "As I was reading the article, I decided to calculate how many people in the world must share the same birthday. According to https://www.worldometers.info/world-population/ at the time of writing (3/25/2021 at 2:40 PM MST), there are 7,854,610,208 people. By dividing this by 365 (ignoring leap years), we get 21,519,480.02. We take the ceiling of this, meaning there are at least 21,519,481 people who share the same birthday. Similarly, 250 people were born the same second ($365 \\text{ days } \\cdot 24 \\text{ hours } \\cdot 60 \\text{ minutes } \\cdot 60 \\text{ seconds } = 31,536,000$; $7,854,610,208 / 31,536,000 \\approx 249.07$).\n",
        "\n",
        "It is unfortunate, however, that by the Pigeonhole principle alone there is no way to know for certain which \"hole\" is the more populace. It is entirely possible that the world's population's birthdays are evenly distributed, or it could just so happen that they all land on December 19th. It is impossible to say, but at least we do know there is at least one day in the year that this is true.\n",
        "\n",
        "As for the philosiphical principle on page 41, knowing is often half the battle. Once we know something is possible, at that is left is to achieve it."
      ]
    },
    {
      "cell_type": "markdown",
      "metadata": {
        "id": "Gjo1VKjzOa5u"
      },
      "source": [
        "#### Interview"
      ]
    },
    {
      "cell_type": "markdown",
      "metadata": {
        "id": "rVcaQDxVOdTT"
      },
      "source": [
        "I spoke to my wife about the Pigeonhole principle, and she seemed unimpressed. Perhaps the simplicity of the idea hides its power. I told her how many people were born at the same second as her, and she argued, \"I bet none of them were born in a hot tub though!\" Unfortunately, I could not find data to test this."
      ]
    },
    {
      "cell_type": "markdown",
      "metadata": {
        "id": "qaIh8NanRAzN"
      },
      "source": [
        "### \"Writing Some Code\""
      ]
    },
    {
      "cell_type": "markdown",
      "metadata": {
        "id": "WNqtRld2RJ6G"
      },
      "source": [
        "I don't think this problem is as hard as one might initially think. All the requirements are binary yes/no with the exception of the possible combinations of initials. \n",
        "\n",
        "To calculate the number of initials, we simply multiply the possibilites for each. We will assume each individual has at least 2 initials and at most 3. We will also assume they are using the standard Latin alphabet (letters A - Z). This means we would have 26 first initials, 26 last initials, and 27 middle initials (including no middle initial). This gives us $26 \\cdot 26 \\cdot 27 = 18,252$ possible combinations."
      ]
    },
    {
      "cell_type": "code",
      "metadata": {
        "id": "c2OmZD7ZREZL"
      },
      "source": [
        "def calculate_number_of_possible_initials_including_middle_initial_if_any(n):\n",
        "  # I'm assuming `n` is the number of possible initials.\n",
        "  return n * n * (n + 1)\n",
        "\n",
        "calc_num_initial_combos = calculate_number_of_possible_initials_including_middle_initial_if_any"
      ],
      "execution_count": null,
      "outputs": []
    },
    {
      "cell_type": "code",
      "metadata": {
        "colab": {
          "base_uri": "https://localhost:8080/"
        },
        "id": "4by2VaaFUClL",
        "outputId": "9b83d433-a823-432e-ff7b-a5cb9fe0551a"
      },
      "source": [
        "num_combos = calc_num_initial_combos(26)\n",
        "num_combos"
      ],
      "execution_count": null,
      "outputs": [
        {
          "output_type": "execute_result",
          "data": {
            "text/plain": [
              "18252"
            ]
          },
          "metadata": {
            "tags": []
          },
          "execution_count": 3
        }
      ]
    },
    {
      "cell_type": "markdown",
      "metadata": {
        "id": "sci86BC-ViFL"
      },
      "source": [
        "Just to double check, we'll calculate all the possibilities..."
      ]
    },
    {
      "cell_type": "code",
      "metadata": {
        "colab": {
          "base_uri": "https://localhost:8080/"
        },
        "id": "ZvADd8zsVm8g",
        "outputId": "2b57eadc-cf93-4c4a-cb88-dff3410eb74c"
      },
      "source": [
        "from itertools import product as cartesian_product\n",
        "\n",
        "# If I wanted to be silly, I could use these two lines instead of \n",
        "# calculate_number_of_possible_initials_including_middle_initial_if_any 🤪\n",
        "letters = [chr(i) for i in range(97, 97 + 26)]  \n",
        "len(list(cartesian_product(letters, letters + [''], letters)))"
      ],
      "execution_count": null,
      "outputs": [
        {
          "output_type": "execute_result",
          "data": {
            "text/plain": [
              "18252"
            ]
          },
          "metadata": {
            "tags": []
          },
          "execution_count": 4
        }
      ]
    },
    {
      "cell_type": "markdown",
      "metadata": {
        "id": "bTpVcH9GY3p1"
      },
      "source": [
        "Since the second part of the problem is binary, all we would need to do is multiply the number of initials combinations by $2^n$ where $n$ is the number of binary conditions. In this case, there are 6 binary conditions meaning the total should be $18,252 \\cdot 2^6 = 1,168,128$."
      ]
    },
    {
      "cell_type": "markdown",
      "metadata": {
        "id": "j7HxZUl4Zdul"
      },
      "source": [
        "Nevertheless, we will develop the second function to place a pigeon in its pigeonhole."
      ]
    },
    {
      "cell_type": "code",
      "metadata": {
        "id": "uIAEUjrvXMNM"
      },
      "source": [
        "def pigeonhole_from_pigeon(pigeon):\n",
        "  pigeon = pigeon.copy()\n",
        "  # Get the initials while removing name from the dictionary\n",
        "  initials = [name[0].upper() for name in pigeon.pop('Name').split(' ')]\n",
        "\n",
        "  # Assert the output cardinality is more than 1,000,000.\n",
        "  assert(calc_num_initial_combos(26) * 2 ** len(pigeon) > 1_000_000)\n",
        "\n",
        "  if len(initials) < 3:\n",
        "    initials.insert(1, ' ')  # Add a space to represent no initial\n",
        "  elif len(initials) > 3:\n",
        "    # If there are too many middle initials, just take the first\n",
        "    initials = initials[:2] + [initials[-1]]\n",
        "  \n",
        "  # Generate the output\n",
        "  output = ''.join(initials) + ':'\\\n",
        "    + ''.join(map(lambda v: str(int(v)), pigeon.values()))\n",
        "\n",
        "  # Assert the length of the output is equal to the number of binary\n",
        "  # characteristics of the pigeon + the number of initials \n",
        "  # + 1 for the colon separating them.\n",
        "  # In the case of the given question, this should be 10.\n",
        "  #\n",
        "  # I could hardcode this, but doing it this way lets me user different\n",
        "  # numbers of characteristics without having to change my code.\n",
        "  assert(len(output) == len(pigeon) + len(initials) + 1)\n",
        "  return output"
      ],
      "execution_count": null,
      "outputs": []
    },
    {
      "cell_type": "code",
      "metadata": {
        "colab": {
          "base_uri": "https://localhost:8080/"
        },
        "id": "rPEl5g8yYh2I",
        "outputId": "6871f612-105a-4b3f-9b7f-8ba386e44b7c"
      },
      "source": [
        "test_dictionary = {'Name': 'John Doe', 'LDS': True, 'Likes Cats': True, \n",
        "  'Born Before': True, 'Wears Contacts': False, 'Bites Fingernails': False, \n",
        "  'Lives Close': True} \n",
        "expected_result = 'J D:111001'\n",
        "\n",
        "print(\"Passes test:\", pigeonhole_from_pigeon(test_dictionary) == expected_result)"
      ],
      "execution_count": null,
      "outputs": [
        {
          "output_type": "stream",
          "text": [
            "Passes test: True\n"
          ],
          "name": "stdout"
        }
      ]
    },
    {
      "cell_type": "markdown",
      "metadata": {
        "id": "FXot8yiJQkBL"
      },
      "source": [
        "### Pigeonhole Applications"
      ]
    },
    {
      "cell_type": "markdown",
      "metadata": {
        "id": "cG5wcw2bQqUF"
      },
      "source": [
        "https://mindyourdecisions.com/blog/2008/11/25/16-fun-applications-of-the-pigeonhole-principle/ has some interesting applications of the Pigeonhole Principle. The first dozen or so are fairly basic, but things start to get interesting once number 13 is reached. Of particluar interest was the bonus #17, which explains that lossless data compressions cannot work with all input files.\n",
        "\n",
        "This site also mentions a number of graph theory applications, such as #14 and #16 which talk about social graphs, friends, and strangers.\n",
        "\n",
        "https://d3gt.com/unit.html?pigeonhole has an interactive application about the Pigeonhole principle and coloring graphs."
      ]
    },
    {
      "cell_type": "markdown",
      "metadata": {
        "id": "C8BeiIern33B"
      },
      "source": [
        "### Fun\n"
      ]
    },
    {
      "cell_type": "markdown",
      "metadata": {
        "id": "ElukRLoezyxd"
      },
      "source": [
        "I enjoyed writing some code to play with the Principle. I found the math interesting, since the principle relies on simple math but allows for powerful techniques."
      ]
    },
    {
      "cell_type": "markdown",
      "metadata": {
        "id": "OzOkZ3son-u9"
      },
      "source": [
        "### New"
      ]
    },
    {
      "cell_type": "markdown",
      "metadata": {
        "id": "3-nYIdEUz4x5"
      },
      "source": [
        "I learned more about graph coloring how the Pigeonhole Principle works with that."
      ]
    },
    {
      "cell_type": "markdown",
      "metadata": {
        "id": "mJHvoj6GokaZ"
      },
      "source": [
        "### Meaningful\n"
      ]
    },
    {
      "cell_type": "markdown",
      "metadata": {
        "id": "XOxh3XFTz-6N"
      },
      "source": [
        "While basic, the Pigeonhole Principle is powerful and is essential to know and understand."
      ]
    },
    {
      "cell_type": "markdown",
      "metadata": {
        "id": "_RBE03fhpNUG"
      },
      "source": [
        "### Other"
      ]
    },
    {
      "cell_type": "markdown",
      "metadata": {
        "id": "d-sXEeq60C3W"
      },
      "source": [
        "**Collaborators:**\\\n",
        "Michael Hegerhorst - Author"
      ]
    },
    {
      "cell_type": "markdown",
      "metadata": {
        "id": "Nrk-8EmgW4NP"
      },
      "source": [
        "## TODO What is True?\n",
        "Click on each warranted checkbox to toggle it to True (or back to False). \n",
        "\n",
        "NOTE: *This only works in Colab. If you run it in some other Jupyter notebook client/server environment you may have to change False to True (or vice versa) manually.*\n",
        "\n",
        "This self-assessment is subject to revision by a grader."
      ]
    },
    {
      "cell_type": "code",
      "metadata": {
        "cellView": "form",
        "id": "qGAjzgVRXR4M"
      },
      "source": [
        "#@markdown ## What is True about what I did?\n",
        "#@markdown ### I had fun.\n",
        "cb00 = True #@param {type:'boolean'}\n",
        "#@markdown ### I learned something new.\n",
        "cb01 = True #@param {type:'boolean'}\n",
        "#@markdown ### I achieved something meaningful, or something I can build upon at a later time.\n",
        "cb02 = True #@param {type:'boolean'}\n",
        "#@markdown ## What is True about my report?\n",
        "#@markdown ### I wrote a sufficient number of well-written sentences.\n",
        "cb03 = True #@param {type:'boolean'}\n",
        "#@markdown ### My report is free of mechanical infelicities.\n",
        "cb04 = True #@param {type:'boolean'}\n",
        "#@markdown ### I used Grammarly (or something better described in my report) to check for MIs.\n",
        "cb05 = True #@param {type:'boolean'}\n",
        "#@markdown ### I reported on any connections I found between these problems and something I already know. \n",
        "cb06 = True #@param {type:'boolean'}\n",
        "#@markdown ### I reported who were and what contribution each of my collaborators made.\n",
        "cb07 = True #@param {type:'boolean'}\n",
        "#@markdown ### I reported what I thought about the essay in general.\n",
        "cb08 = True #@param {type:'boolean'}\n",
        "#@markdown ### I reported what I thought about the certainty-not-chance feature of the pigeonhole principle.\n",
        "cb09 = True #@param {type:'boolean'}\n",
        "#@markdown ### I reported what I thought about the philosophical aspect of the pigeonhole principle per page 41.\n",
        "cb10 = True #@param {type:'boolean'}\n",
        "#@markdown ### I reported on how my discussion with a non-STEM non-classmate went.\n",
        "cb11 = True #@param {type:'boolean'}\n",
        "#@markdown ### I reported on how I grappled with the problem at the bottom of page 40.\n",
        "cb12 = True #@param {type:'boolean'}\n",
        "#@markdown ### I reported on the connection I found between the pigeonhole principle and graphs.\n",
        "cb13 = True #@param {type:'boolean'}\n",
        "#@markdown ## What is True about my code?\n",
        "#@markdown ### I implemented the first function (the one with the absurdly long name) in one or two lines of code.\n",
        "cb14 = True #@param {type:'boolean'}\n",
        "#@markdown ### I used either the sum rule and product rule together or else just the product rule in the first function.\n",
        "cb15 = True #@param {type:'boolean'}\n",
        "#@markdown ### The first function calculates and returns the correct value (see Exercise 250).\n",
        "cb16 = True #@param {type:'boolean'}\n",
        "#@markdown ### The second function inputs a dictionary like {'Name': 'John Doe', 'LDS': True, 'Likes Cats': True, 'Born Before': True, 'Wears Contacts': False, 'Bites Fingernails': False, 'Lives Close': True} and returns the string 'J D:111001'.\n",
        "cb17 = True #@param {type:'boolean'}\n",
        "#@markdown ### The second function calls the first function with the appropriate argument and uses the result.\n",
        "cb18 = True #@param {type:'boolean'}\n",
        "#@markdown ### The second function includes an assert that the length of the string being returned is 10.\n",
        "cb19 = True #@param {type:'boolean'}\n",
        "#@markdown ### The second function includes an assert that the cardinality of its codomain (set of possible return values) is over a million.\n",
        "cb20 = True #@param {type:'boolean'}"
      ],
      "execution_count": null,
      "outputs": []
    },
    {
      "cell_type": "markdown",
      "metadata": {
        "id": "WXZ_Cq2FxLSm"
      },
      "source": [
        "### TA Comments"
      ]
    },
    {
      "cell_type": "markdown",
      "metadata": {
        "id": "SBqmayXTxNai"
      },
      "source": [
        "Excellently done!!!"
      ]
    }
  ]
}