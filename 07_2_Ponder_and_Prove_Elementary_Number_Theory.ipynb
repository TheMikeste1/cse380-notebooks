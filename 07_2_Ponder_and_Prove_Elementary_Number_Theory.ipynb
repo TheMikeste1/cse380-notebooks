{
  "nbformat": 4,
  "nbformat_minor": 0,
  "metadata": {
    "kernelspec": {
      "display_name": "Python 3",
      "language": "python",
      "name": "python3"
    },
    "language_info": {
      "codemirror_mode": {
        "name": "ipython",
        "version": 3
      },
      "file_extension": ".py",
      "mimetype": "text/x-python",
      "name": "python",
      "nbconvert_exporter": "python",
      "pygments_lexer": "ipython3",
      "version": "3.9.0"
    },
    "colab": {
      "name": "07_2_Ponder_and_Prove_Elementary_Number_Theory.ipynb",
      "provenance": [],
      "collapsed_sections": [
        "W0WxE3IAQ2WU",
        "q8KESLBANSkC",
        "muxeYgQQKGEU"
      ],
      "include_colab_link": true
    }
  },
  "cells": [
    {
      "cell_type": "markdown",
      "metadata": {
        "id": "view-in-github",
        "colab_type": "text"
      },
      "source": [
        "<a href=\"https://colab.research.google.com/github/TheMikeste1/cse380-notebooks/blob/master/07_2_Ponder_and_Prove_Elementary_Number_Theory.ipynb\" target=\"_parent\"><img src=\"https://colab.research.google.com/assets/colab-badge.svg\" alt=\"Open In Colab\"/></a>"
      ]
    },
    {
      "cell_type": "markdown",
      "metadata": {
        "id": "1rG4k7VvQ2WT"
      },
      "source": [
        "# Ponder and Prove Elementary Number Theory\n",
        "#### Due: Saturday, 20 February 2021, 11:59 pm."
      ]
    },
    {
      "cell_type": "markdown",
      "metadata": {
        "id": "W0WxE3IAQ2WU"
      },
      "source": [
        "## Explore Fermat's Little Theorem Further\n"
      ]
    },
    {
      "cell_type": "markdown",
      "metadata": {
        "id": "w2vby9erSjOv"
      },
      "source": [
        "Fermat's Little Theorem (FLT) says that if $N$ is prime, then $N$ divides $X^N - X$.\n",
        "\n",
        "Remember, the contrapositive of the conditional statement in this theorem is that if $N$ **doesn't** divide $X^N - X$ for some $X$, then $N$ **can't** be prime.\n",
        "\n",
        "Unfortunately, this simple primality test doesn't always work, because it can be fooled by **pseudoprimes**.\n",
        "\n",
        "For example, $341 = 11 \\cdot 31$ is not prime. But $341$ **does** divide $2^{341} - 2$ as verified below:"
      ]
    },
    {
      "cell_type": "code",
      "metadata": {
        "id": "NBrPMgZoTLAe",
        "colab": {
          "base_uri": "https://localhost:8080/"
        },
        "outputId": "da96b091-a2cb-437f-ed37-23aa3609bb25"
      },
      "source": [
        "((2 ** 341) - 2) % 341"
      ],
      "execution_count": null,
      "outputs": [
        {
          "output_type": "execute_result",
          "data": {
            "text/plain": [
              "0"
            ]
          },
          "metadata": {
            "tags": []
          },
          "execution_count": 1
        }
      ]
    },
    {
      "cell_type": "markdown",
      "metadata": {
        "id": "igGoVqAOTTm_"
      },
      "source": [
        "So $341$ is a so-called **base-2 pseudoprime**. What about **base-3**?"
      ]
    },
    {
      "cell_type": "code",
      "metadata": {
        "id": "hwrSZ1xDTVxW",
        "colab": {
          "base_uri": "https://localhost:8080/"
        },
        "outputId": "dc5dbe0c-e779-4ce3-f33c-1a72f09608d8"
      },
      "source": [
        "((3 ** 341) - 3) % 341"
      ],
      "execution_count": null,
      "outputs": [
        {
          "output_type": "execute_result",
          "data": {
            "text/plain": [
              "165"
            ]
          },
          "metadata": {
            "tags": []
          },
          "execution_count": 2
        }
      ]
    },
    {
      "cell_type": "markdown",
      "metadata": {
        "id": "sc9w28MiTZXk"
      },
      "source": [
        "Check that the result is not zero, therefore $341$ is **not** a **base-3 pseudoprime**.\n",
        "\n",
        "Are there any other bases that will not fool the FLT test for $341$?\n",
        "\n",
        "Are there any pseudoprimes that will fool the FLT for **any choice** of base coprime to them?"
      ]
    },
    {
      "cell_type": "markdown",
      "metadata": {
        "id": "AMFTYECVTgy4"
      },
      "source": [
        "### The answer is yes."
      ]
    },
    {
      "cell_type": "markdown",
      "metadata": {
        "id": "u-CxbDylTkYp"
      },
      "source": [
        "Your task is the find the first 4-digit **bullet-proof pseudoprime** (**bppp**) and **prove** (yes, **PROVE**) that it will fool the FLT test for every base coprime to it.\n",
        "\n",
        "Your proof must use all of the following:\n",
        "1. the definition of coprime,\n",
        "2. a consequence of coprimality,\n",
        "3. the factorization of the **bppp**,\n",
        "4. FLT, and the\n",
        "5. CRT (Chinese Remainder Theorem).\n"
      ]
    },
    {
      "cell_type": "markdown",
      "metadata": {
        "id": "81dbKwHenxnT"
      },
      "source": [
        "# TODO My Report on What I Did and What I Learned"
      ]
    },
    {
      "cell_type": "markdown",
      "metadata": {
        "id": "C8BeiIern33B"
      },
      "source": [
        "## Fun"
      ]
    },
    {
      "cell_type": "markdown",
      "metadata": {
        "id": "dB57TAiaC-XT"
      },
      "source": [
        "I enjoyed researching what makes a BPPP and investigating the origin of Carmichael numbers. However, I felt this assignment was particularly stressful due to a lack of direction even with 07.4 \"Further Light and Knowledge.\""
      ]
    },
    {
      "cell_type": "markdown",
      "metadata": {
        "id": "OzOkZ3son-u9"
      },
      "source": [
        "## New"
      ]
    },
    {
      "cell_type": "markdown",
      "metadata": {
        "id": "q0YZ8dH1Du8g"
      },
      "source": [
        "As a consequence of my research into what makes a pseudoprime \"bulletproof,\" I stumbled upon ways other than factoring to test if a number is prime, such as the class-mentioned Miller-Rabin primality test. These are particularly interesting to me because I've always felt there had to be a better way to check for primes than factoring."
      ]
    },
    {
      "cell_type": "markdown",
      "metadata": {
        "id": "mJHvoj6GokaZ"
      },
      "source": [
        "## Meaningful"
      ]
    },
    {
      "cell_type": "markdown",
      "metadata": {
        "id": "QvkmemYFDulC"
      },
      "source": [
        "I was a little confused when seeing the 5 requirements for this Ponder and Prove, but quickly found how they related. I've learned a lot about FLT and primality tests, which knowledge in itself is meaningful. However, I feel this assignment would have been more meaningful and beneficial if we had learned more about pseudoprimes and what characteristics they have before attempting to write of proof for a bulletproof pseudoprime."
      ]
    },
    {
      "cell_type": "markdown",
      "metadata": {
        "id": "_RBE03fhpNUG"
      },
      "source": [
        "## Other\n",
        "Collaborators:\\\n",
        "Michael Hegerhorst - Author"
      ]
    },
    {
      "cell_type": "markdown",
      "metadata": {
        "id": "wE6tT5jO7nzp"
      },
      "source": [
        "## BPPP Proof"
      ]
    },
    {
      "cell_type": "markdown",
      "metadata": {
        "id": "EHsrUT3MOD_a"
      },
      "source": [
        "1105 is the smallest 4-digit bppp. Its factors are 5, 13, and 17.\r\n",
        "\r\n",
        "If a number $n$ is coprime to 1105 (coprime meaning the GCD is 1), a consequence of their coprimality is $n$ and 1105 share no factors. In turn, this means $n$ is coprime to 5, 13, and 17 since none of these primes are part of $n$'s factorization.\r\n",
        "\r\n",
        "Fermat's Little Theorem states $N | X^{N - 1} - X$, where $N$ is prime. This can also be stated as $X^{N - 1} \\equiv_N 1$, if $N$ is prime and does not divide $X$. Applying this idea to the prime factors of 1105, the following are true:\r\n",
        "  - $n^4 \\equiv_5 1$\r\n",
        "  - $n^{12} \\equiv_{13} 1$\r\n",
        "  - $n^{16} \\equiv_{17} 1$\r\n",
        "\r\n",
        "\r\n",
        "\r\n"
      ]
    },
    {
      "cell_type": "markdown",
      "metadata": {
        "id": "EFq54fPRU0QM"
      },
      "source": [
        "By the Chinese Remainder Theorem, if the remainders after the division of a number by several pairwise coprime numbers are known, a unique number fulfilling all these remainders can be determined [[Wikipedia](https://en.wikipedia.org/wiki/Chinese_remainder_theorem)]. Therefore, whereas the LCM of 4, 12, and 16 is 48, it follows that\r\n",
        "\r\n",
        "  - $n^{48} \\equiv_5 1$\r\n",
        "  - $n^{48} \\equiv_{13} 1$\r\n",
        "  - $n^{48} \\equiv_{17} 1$\r\n",
        "\r\n",
        "and, since $n$ is coprime to the factors of 1105 and therefore is coprime to 1105,\r\n",
        "  - $n^{48} \\equiv_{1105} 1$\r\n",
        "\r\n",
        "Furthermore, any $n^{48 * k}$ will also be $\\equiv_{1105} 1$:\r\n",
        "  - $n^{48 * 23} = n^{1104} \\equiv_{1105} 1$\r\n",
        "  \r\n",
        "Whereas $1105 - 1 = 1104$, this fulfills the requirements for Fermat's Little Theorem with any $n$ coprime to 1105."
      ]
    },
    {
      "cell_type": "markdown",
      "metadata": {
        "id": "Nrk-8EmgW4NP"
      },
      "source": [
        "# TODO What is True?\n",
        "Click on each warranted checkbox to toggle it to True (or back to False). \n",
        "\n",
        "NOTE: *This only works in Colab. If you run it in some other Jupyter notebook client/server environment you may have to change False to True (or vice versa) manually.*\n",
        "\n",
        "This self-assessment is subject to revision by a grader."
      ]
    },
    {
      "cell_type": "code",
      "metadata": {
        "id": "qGAjzgVRXR4M"
      },
      "source": [
        "#@markdown ## What is True about what I did?\n",
        "#@markdown ### I had fun.\n",
        "cb00 = True #@param {type:'boolean'}\n",
        "#@markdown ### I learned something new.\n",
        "cb01 = True #@param {type:'boolean'}\n",
        "#@markdown ### I achieved something meaningful, or something I can build upon at a later time.\n",
        "cb02 = True #@param {type:'boolean'}\n",
        "#@markdown ## What is true about my report?\n",
        "#@markdown ### I wrote a sufficient number of well-written sentences.\n",
        "cb03 = True #@param {type:'boolean'}\n",
        "#@markdown ### My report is free of mechanical infelicities.\n",
        "cb04 = True #@param {type:'boolean'}\n",
        "#@markdown ### I used Grammarly (or something better described in my report) to check for MIs.\n",
        "cb05 = True #@param {type:'boolean'}\n",
        "#@markdown ### I reported on any connections I found between these problems and something I already know. \n",
        "cb06 = True #@param {type:'boolean'}\n",
        "#@markdown ### I reported who were and what contribution each of my collaborators made.\n",
        "cb07 = True #@param {type:'boolean'}\n",
        "#@markdown ## What is true about my proof?\n",
        "#@markdown ### It succinctly uses the definition of coprime.\n",
        "cb08 = True #@param {type:'boolean'}\n",
        "#@markdown ### It correctly uses the definition of coprime.\n",
        "cb09 = True #@param {type:'boolean'}\n",
        "#@markdown ### It succinctly uses a consequence of comprimality\n",
        "cb10 = True #@param {type:'boolean'}\n",
        "#@markdown ### It correctly uses a consequence of comprimality\n",
        "cb11 = True #@param {type:'boolean'}\n",
        "#@markdown ### It succinctly uses the factorization of the **bppp**,\n",
        "cb12 = True #@param {type:'boolean'}\n",
        "#@markdown ### It correctly uses the factorization of the **bppp**,\n",
        "cb13 = True #@param {type:'boolean'}\n",
        "#@markdown ### It succinctly uses Fermat's Little Theorem. \n",
        "cb14 = True #@param {type:'boolean'}\n",
        "#@markdown ### It correctly uses Fermat's Little Theorem. \n",
        "cb15 = True #@param {type:'boolean'}\n",
        "#@markdown ### It succinctly uses the Chinese Remainder Theorem.\n",
        "cb16 = True #@param {type:'boolean'}\n",
        "#@markdown ### It correctly uses the Chinese Remainder Theorem.\n",
        "cb17 = True #@param {type:'boolean'}\n",
        "\n"
      ],
      "execution_count": null,
      "outputs": []
    },
    {
      "cell_type": "markdown",
      "metadata": {
        "id": "muxeYgQQKGEU"
      },
      "source": [
        "# For graders"
      ]
    },
    {
      "cell_type": "code",
      "metadata": {
        "id": "c0ldoieNKMTU"
      },
      "source": [
        "#@markdown ---\n",
        "number_of_MIs_found = 0 #@param {type: 'slider', min: 0, max: 5}\n",
        "#@markdown ---\n"
      ],
      "execution_count": null,
      "outputs": []
    },
    {
      "cell_type": "markdown",
      "metadata": {
        "id": "4Euv3PRiKbvm"
      },
      "source": [
        "## TA Comments"
      ]
    },
    {
      "cell_type": "markdown",
      "metadata": {
        "id": "Z1qYIk0FKdmE"
      },
      "source": [
        "Awesome job! Keep it up!"
      ]
    }
  ]
}